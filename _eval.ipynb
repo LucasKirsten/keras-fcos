{
 "cells": [
  {
   "cell_type": "markdown",
   "id": "886334a5",
   "metadata": {},
   "source": [
    "## Train: VOC 2007+2012, Test: VOC 2007 (IoU saves)\n",
    "\n",
    "| **Loss**          | **IoU50**  | **IoU75**  | **IoU50:95** | **PIoU50** | **PIoU75** | **PIoU50:95** |\n",
    "| ----------------  | ---------- | ---------- | ------------ | ---------- | ---------- | ------------- |\n",
    "| ProbIoU           | **0.6470** | **0.3159** | **0.3368**   | 0.7029     | 0.5367     | **0.4819**    |\n",
    "| GIoU              | 0.6389     | 0.2428     | 0.3033       | 0.7052     | 0.5332     | 0.4691        |\n",
    "| DIoU              | 0.6357     | 0.2452     | 0.3015       | 0.7046     | 0.5337     | 0.4688        |\n",
    "| CIoU              | 0.6467     | 0.2800     | 0.3225       | **0.7059** | **0.5372** | 0.4781        |\n",
    "| IoU (default)     | 0.6340     | 0.2713     | 0.3110       | 0.6967     | 0.5301     | 0.4694        |\n",
    "\n",
    "## Train: VOC 2007+2012, Test: VOC 2007 (ProbIoU saves)\n",
    "\n",
    "| **Loss**          | **IoU50**  | **IoU75**  | **IoU50:95** | **PIoU50** | **PIoU75** | **PIoU50:95** |\n",
    "| ----------------  | ---------- | ---------- | ------------ | ---------- | ---------- | ------------- |\n",
    "| ProbIoU           | 0.6284     | 0.2288     | 0.2913       | 0.6971     | 0.5198     | 0.4611        |\n",
    "| GIoU              | **0.6475** | **0.3070** | **0.3325**   | **0.7053** | **0.5408** | **0.4824**    |\n",
    "| DIoU              | 0.6307     | 0.2298     | 0.2927       | 0.7048     | 0.5327     | 0.4657        |\n",
    "| CIoU              | 0.6244     | 0.2045     | 0.2786       | 0.6984     | 0.5151     | 0.4538        |\n",
    "| IoU (default)     | 0.6368     | 0.2826     | 0.3183       | 0.7007     | 0.5306     | 0.4743        |"
   ]
  },
  {
   "cell_type": "code",
   "execution_count": 1,
   "id": "db440a3b",
   "metadata": {},
   "outputs": [
    {
     "name": "stderr",
     "output_type": "stream",
     "text": [
      "Using TensorFlow backend.\n"
     ]
    }
   ],
   "source": [
    "import os\n",
    "os.environ['CUDA_VISIBLE_DEVICES'] = '1'\n",
    "\n",
    "import keras.backend as K\n",
    "from utils.eval import *\n",
    "from generators.voc_generator import PascalVocGenerator\n",
    "from utils.image import preprocess_image\n",
    "import models"
   ]
  },
  {
   "cell_type": "code",
   "execution_count": 2,
   "id": "69fd7fde",
   "metadata": {},
   "outputs": [],
   "source": [
    "common_args = {\n",
    "    'batch_size': 1,\n",
    "    'image_min_side': 256,\n",
    "    'image_max_side': 512,\n",
    "    'preprocess_image': preprocess_image,\n",
    "}\n",
    "generator = PascalVocGenerator(\n",
    "    '/datasets/dataset/VOCdevkit/VOC2007',\n",
    "    'test',\n",
    "    shuffle_groups=False,\n",
    "    skip_truncated=False,\n",
    "    skip_difficult=True,\n",
    "    **common_args\n",
    ")"
   ]
  },
  {
   "cell_type": "code",
   "execution_count": 3,
   "id": "4134bdef",
   "metadata": {
    "collapsed": true,
    "jupyter": {
     "outputs_hidden": true
    },
    "tags": []
   },
   "outputs": [
    {
     "name": "stderr",
     "output_type": "stream",
     "text": [
      "WARNING: Logging before flag parsing goes to stderr.\n",
      "W0423 02:47:45.750052 139737818224448 deprecation_wrapper.py:119] From /usr/local/lib/python3.6/dist-packages/keras/backend/tensorflow_backend.py:95: The name tf.reset_default_graph is deprecated. Please use tf.compat.v1.reset_default_graph instead.\n",
      "\n",
      "W0423 02:47:45.750936 139737818224448 deprecation_wrapper.py:119] From /usr/local/lib/python3.6/dist-packages/keras/backend/tensorflow_backend.py:98: The name tf.placeholder_with_default is deprecated. Please use tf.compat.v1.placeholder_with_default instead.\n",
      "\n",
      "W0423 02:47:45.762826 139737818224448 deprecation_wrapper.py:119] From /usr/local/lib/python3.6/dist-packages/keras/backend/tensorflow_backend.py:102: The name tf.get_default_graph is deprecated. Please use tf.compat.v1.get_default_graph instead.\n",
      "\n",
      "W0423 02:47:45.772008 139737818224448 deprecation_wrapper.py:119] From /usr/local/lib/python3.6/dist-packages/keras/backend/tensorflow_backend.py:517: The name tf.placeholder is deprecated. Please use tf.compat.v1.placeholder instead.\n",
      "\n",
      "W0423 02:47:45.794598 139737818224448 deprecation_wrapper.py:119] From /usr/local/lib/python3.6/dist-packages/keras/backend/tensorflow_backend.py:4115: The name tf.random_normal is deprecated. Please use tf.random.normal instead.\n",
      "\n",
      "W0423 02:47:45.976876 139737818224448 deprecation_wrapper.py:119] From /usr/local/lib/python3.6/dist-packages/keras/backend/tensorflow_backend.py:1919: The name tf.nn.fused_batch_norm is deprecated. Please use tf.compat.v1.nn.fused_batch_norm instead.\n",
      "\n",
      "W0423 02:47:45.979202 139737818224448 deprecation_wrapper.py:119] From /usr/local/lib/python3.6/dist-packages/keras/backend/tensorflow_backend.py:3976: The name tf.nn.max_pool is deprecated. Please use tf.nn.max_pool2d instead.\n",
      "\n",
      "W0423 02:47:46.884089 139737818224448 deprecation_wrapper.py:119] From /workdir/msc/cell-detector/keras-fcos/utils_graph.py:108: The name tf.image.resize_images is deprecated. Please use tf.image.resize instead.\n",
      "\n",
      "W0423 02:47:50.538001 139737818224448 deprecation.py:323] From /workdir/msc/cell-detector/keras-fcos/layers.py:273: add_dispatch_support.<locals>.wrapper (from tensorflow.python.ops.array_ops) is deprecated and will be removed in a future version.\n",
      "Instructions for updating:\n",
      "Use tf.where in 2.0, which has the same broadcast rule as np.where\n"
     ]
    }
   ],
   "source": [
    "model_path = './snapshots/pascal_resnet50_iou/finetuned/resnet50_pascal.h5'\n",
    "# load retinanet model\n",
    "K.clear_session()\n",
    "K.set_learning_phase(1)\n",
    "model = models.load_model(model_path, backbone_name='resnet50')\n",
    "# if the model is not converted to an inference model, use the line below\n",
    "# see: https://github.com/fizyr/keras-retinanet#converting-a-training-model-to-inference-model\n",
    "model = models.convert_model(model)"
   ]
  },
  {
   "cell_type": "code",
   "execution_count": 4,
   "id": "8287909e",
   "metadata": {
    "collapsed": true,
    "jupyter": {
     "outputs_hidden": true
    },
    "tags": []
   },
   "outputs": [
    {
     "name": "stderr",
     "output_type": "stream",
     "text": [
      "Running network: 100% (4952 of 4952) |###| Elapsed Time: 0:03:48 Time:  0:03:48\n",
      "Parsing annotations: 100% (4952 of 4952) || Elapsed Time: 0:00:01 Time:  0:00:01\n",
      "Evaluating threshold 0.50: 100% (20 of 20) || Elapsed Time: 0:00:05 Time:  0:00:05\n",
      "Evaluating threshold 0.55:   5% (1 of 20) || Elapsed Time: 0:00:00 ETA:  00:00:00"
     ]
    },
    {
     "name": "stdout",
     "output_type": "stream",
     "text": [
      "AP0.50 = 0.6368\n"
     ]
    },
    {
     "name": "stderr",
     "output_type": "stream",
     "text": [
      "Evaluating threshold 0.55: 100% (20 of 20) || Elapsed Time: 0:00:05 Time:  0:00:05\n",
      "Evaluating threshold 0.60:   5% (1 of 20) || Elapsed Time: 0:00:00 ETA:  00:00:00"
     ]
    },
    {
     "name": "stdout",
     "output_type": "stream",
     "text": [
      "AP0.55 = 0.5972\n"
     ]
    },
    {
     "name": "stderr",
     "output_type": "stream",
     "text": [
      "Evaluating threshold 0.60: 100% (20 of 20) || Elapsed Time: 0:00:05 Time:  0:00:05\n",
      "Evaluating threshold 0.65:   5% (1 of 20) || Elapsed Time: 0:00:00 ETA:  00:00:00"
     ]
    },
    {
     "name": "stdout",
     "output_type": "stream",
     "text": [
      "AP0.60 = 0.5438\n"
     ]
    },
    {
     "name": "stderr",
     "output_type": "stream",
     "text": [
      "Evaluating threshold 0.65: 100% (20 of 20) || Elapsed Time: 0:00:05 Time:  0:00:05\n",
      "Evaluating threshold 0.70:   5% (1 of 20) || Elapsed Time: 0:00:00 ETA:  00:00:00"
     ]
    },
    {
     "name": "stdout",
     "output_type": "stream",
     "text": [
      "AP0.65 = 0.4718\n"
     ]
    },
    {
     "name": "stderr",
     "output_type": "stream",
     "text": [
      "Evaluating threshold 0.70: 100% (20 of 20) || Elapsed Time: 0:00:05 Time:  0:00:05\n",
      "Evaluating threshold 0.75:   5% (1 of 20) || Elapsed Time: 0:00:00 ETA:  00:00:00"
     ]
    },
    {
     "name": "stdout",
     "output_type": "stream",
     "text": [
      "AP0.70 = 0.3845\n"
     ]
    },
    {
     "name": "stderr",
     "output_type": "stream",
     "text": [
      "Evaluating threshold 0.75: 100% (20 of 20) || Elapsed Time: 0:00:05 Time:  0:00:05\n",
      "Evaluating threshold 0.80:   5% (1 of 20) || Elapsed Time: 0:00:00 ETA:  00:00:00"
     ]
    },
    {
     "name": "stdout",
     "output_type": "stream",
     "text": [
      "AP0.75 = 0.2826\n"
     ]
    },
    {
     "name": "stderr",
     "output_type": "stream",
     "text": [
      "Evaluating threshold 0.80: 100% (20 of 20) || Elapsed Time: 0:00:05 Time:  0:00:05\n",
      "Evaluating threshold 0.85:   5% (1 of 20) || Elapsed Time: 0:00:00 ETA:  00:00:00"
     ]
    },
    {
     "name": "stdout",
     "output_type": "stream",
     "text": [
      "AP0.80 = 0.1750\n"
     ]
    },
    {
     "name": "stderr",
     "output_type": "stream",
     "text": [
      "Evaluating threshold 0.85: 100% (20 of 20) || Elapsed Time: 0:00:05 Time:  0:00:05\n",
      "Evaluating threshold 0.90:   5% (1 of 20) || Elapsed Time: 0:00:00 ETA:  00:00:00"
     ]
    },
    {
     "name": "stdout",
     "output_type": "stream",
     "text": [
      "AP0.85 = 0.0743\n"
     ]
    },
    {
     "name": "stderr",
     "output_type": "stream",
     "text": [
      "Evaluating threshold 0.90: 100% (20 of 20) || Elapsed Time: 0:00:05 Time:  0:00:05\n",
      "Evaluating threshold 0.95:   5% (1 of 20) || Elapsed Time: 0:00:00 ETA:  00:00:00"
     ]
    },
    {
     "name": "stdout",
     "output_type": "stream",
     "text": [
      "AP0.90 = 0.0165\n"
     ]
    },
    {
     "name": "stderr",
     "output_type": "stream",
     "text": [
      "Evaluating threshold 0.95: 100% (20 of 20) || Elapsed Time: 0:00:05 Time:  0:00:05\n"
     ]
    },
    {
     "name": "stdout",
     "output_type": "stream",
     "text": [
      "AP0.95 = 0.0009\n",
      "num_fp=1513070.0, num_tp=56070.0\n",
      "285 instances of class aeroplane with average precision: 0.3319\n",
      "337 instances of class bicycle with average precision: 0.3513\n",
      "459 instances of class bird with average precision: 0.3148\n",
      "263 instances of class boat with average precision: 0.2107\n",
      "469 instances of class bottle with average precision: 0.1477\n",
      "213 instances of class bus with average precision: 0.4117\n",
      "1201 instances of class car with average precision: 0.4202\n",
      "358 instances of class cat with average precision: 0.4488\n",
      "756 instances of class chair with average precision: 0.1672\n",
      "244 instances of class cow with average precision: 0.3589\n",
      "206 instances of class diningtable with average precision: 0.2547\n",
      "489 instances of class dog with average precision: 0.4169\n",
      "348 instances of class horse with average precision: 0.3607\n",
      "325 instances of class motorbike with average precision: 0.3178\n",
      "4528 instances of class person with average precision: 0.3035\n",
      "480 instances of class pottedplant with average precision: 0.1240\n",
      "242 instances of class sheep with average precision: 0.3658\n",
      "239 instances of class sofa with average precision: 0.2651\n",
      "282 instances of class train with average precision: 0.3930\n",
      "308 instances of class tvmonitor with average precision: 0.4018\n",
      "IoU mAP0.5:0.95 = 0.3183\n"
     ]
    }
   ],
   "source": [
    "average_precisions = evaluate_mAP(generator, model, method='iou')\n",
    "\n",
    "# compute per class average precision\n",
    "total_instances = []\n",
    "precisions = []\n",
    "for label, (average_precision, num_annotations) in average_precisions.items():\n",
    "    print('{:.0f} instances of class'.format(num_annotations), generator.label_to_name(label),\n",
    "          'with average precision: {:.4f}'.format(average_precision))\n",
    "    total_instances.append(num_annotations)\n",
    "    precisions.append(average_precision)\n",
    "mean_ap = sum(precisions) / sum(x > 0 for x in total_instances)\n",
    "print('IoU mAP0.5:0.95 = {:.4f}'.format(mean_ap))"
   ]
  },
  {
   "cell_type": "code",
   "execution_count": 5,
   "id": "7cbfb054",
   "metadata": {
    "tags": []
   },
   "outputs": [
    {
     "name": "stderr",
     "output_type": "stream",
     "text": [
      "Running network: 100% (4952 of 4952) |###| Elapsed Time: 0:03:01 Time:  0:03:01\n",
      "Parsing annotations: 100% (4952 of 4952) || Elapsed Time: 0:00:01 Time:  0:00:01\n",
      "Evaluating threshold 0.50: 100% (20 of 20) || Elapsed Time: 0:00:07 Time:  0:00:07\n",
      "Evaluating threshold 0.55:   5% (1 of 20) || Elapsed Time: 0:00:00 ETA:   0:00:01"
     ]
    },
    {
     "name": "stdout",
     "output_type": "stream",
     "text": [
      "AP0.50 = 0.7007\n"
     ]
    },
    {
     "name": "stderr",
     "output_type": "stream",
     "text": [
      "Evaluating threshold 0.55: 100% (20 of 20) || Elapsed Time: 0:00:07 Time:  0:00:07\n",
      "Evaluating threshold 0.60:   5% (1 of 20) || Elapsed Time: 0:00:00 ETA:  00:00:00"
     ]
    },
    {
     "name": "stdout",
     "output_type": "stream",
     "text": [
      "AP0.55 = 0.6864\n"
     ]
    },
    {
     "name": "stderr",
     "output_type": "stream",
     "text": [
      "Evaluating threshold 0.60: 100% (20 of 20) || Elapsed Time: 0:00:07 Time:  0:00:07\n",
      "Evaluating threshold 0.65:   5% (1 of 20) || Elapsed Time: 0:00:00 ETA:   0:00:01"
     ]
    },
    {
     "name": "stdout",
     "output_type": "stream",
     "text": [
      "AP0.60 = 0.6651\n"
     ]
    },
    {
     "name": "stderr",
     "output_type": "stream",
     "text": [
      "Evaluating threshold 0.65: 100% (20 of 20) || Elapsed Time: 0:00:07 Time:  0:00:07\n",
      "Evaluating threshold 0.70:   5% (1 of 20) || Elapsed Time: 0:00:00 ETA:  00:00:00"
     ]
    },
    {
     "name": "stdout",
     "output_type": "stream",
     "text": [
      "AP0.65 = 0.6368\n"
     ]
    },
    {
     "name": "stderr",
     "output_type": "stream",
     "text": [
      "Evaluating threshold 0.70: 100% (20 of 20) || Elapsed Time: 0:00:07 Time:  0:00:07\n",
      "Evaluating threshold 0.75:   5% (1 of 20) || Elapsed Time: 0:00:00 ETA:  00:00:00"
     ]
    },
    {
     "name": "stdout",
     "output_type": "stream",
     "text": [
      "AP0.70 = 0.5978\n"
     ]
    },
    {
     "name": "stderr",
     "output_type": "stream",
     "text": [
      "Evaluating threshold 0.75: 100% (20 of 20) || Elapsed Time: 0:00:07 Time:  0:00:07\n",
      "Evaluating threshold 0.80:   5% (1 of 20) || Elapsed Time: 0:00:00 ETA:   0:00:01"
     ]
    },
    {
     "name": "stdout",
     "output_type": "stream",
     "text": [
      "AP0.75 = 0.5306\n"
     ]
    },
    {
     "name": "stderr",
     "output_type": "stream",
     "text": [
      "Evaluating threshold 0.80: 100% (20 of 20) || Elapsed Time: 0:00:07 Time:  0:00:07\n",
      "Evaluating threshold 0.85:   5% (1 of 20) || Elapsed Time: 0:00:00 ETA:   0:00:01"
     ]
    },
    {
     "name": "stdout",
     "output_type": "stream",
     "text": [
      "AP0.80 = 0.4434\n"
     ]
    },
    {
     "name": "stderr",
     "output_type": "stream",
     "text": [
      "Evaluating threshold 0.85: 100% (20 of 20) || Elapsed Time: 0:00:07 Time:  0:00:07\n",
      "Evaluating threshold 0.90:   5% (1 of 20) || Elapsed Time: 0:00:00 ETA:  00:00:00"
     ]
    },
    {
     "name": "stdout",
     "output_type": "stream",
     "text": [
      "AP0.85 = 0.3174\n"
     ]
    },
    {
     "name": "stderr",
     "output_type": "stream",
     "text": [
      "Evaluating threshold 0.90: 100% (20 of 20) || Elapsed Time: 0:00:07 Time:  0:00:07\n",
      "Evaluating threshold 0.95:   5% (1 of 20) || Elapsed Time: 0:00:00 ETA:  00:00:00"
     ]
    },
    {
     "name": "stdout",
     "output_type": "stream",
     "text": [
      "AP0.90 = 0.1492\n"
     ]
    },
    {
     "name": "stderr",
     "output_type": "stream",
     "text": [
      "Evaluating threshold 0.95: 100% (20 of 20) || Elapsed Time: 0:00:07 Time:  0:00:07\n"
     ]
    },
    {
     "name": "stdout",
     "output_type": "stream",
     "text": [
      "AP0.95 = 0.0155\n",
      "num_fp=1489968.0, num_tp=79172.0\n",
      "285 instances of class aeroplane with average precision: 0.5098\n",
      "337 instances of class bicycle with average precision: 0.5341\n",
      "459 instances of class bird with average precision: 0.4830\n",
      "263 instances of class boat with average precision: 0.3506\n",
      "469 instances of class bottle with average precision: 0.2574\n",
      "213 instances of class bus with average precision: 0.5571\n",
      "1201 instances of class car with average precision: 0.5870\n",
      "358 instances of class cat with average precision: 0.6302\n",
      "756 instances of class chair with average precision: 0.2770\n",
      "244 instances of class cow with average precision: 0.4996\n",
      "206 instances of class diningtable with average precision: 0.3814\n",
      "489 instances of class dog with average precision: 0.6058\n",
      "348 instances of class horse with average precision: 0.5460\n",
      "325 instances of class motorbike with average precision: 0.5015\n",
      "4528 instances of class person with average precision: 0.4764\n",
      "480 instances of class pottedplant with average precision: 0.2286\n",
      "242 instances of class sheep with average precision: 0.5132\n",
      "239 instances of class sofa with average precision: 0.4102\n",
      "282 instances of class train with average precision: 0.5893\n",
      "308 instances of class tvmonitor with average precision: 0.5474\n",
      "ProbIoU mAP0.5:0.95 = 0.4743\n"
     ]
    }
   ],
   "source": [
    "average_precisions = evaluate_mAP(generator, model, method='piou')\n",
    "\n",
    "# compute per class average precision\n",
    "total_instances = []\n",
    "precisions = []\n",
    "for label, (average_precision, num_annotations) in average_precisions.items():\n",
    "    print('{:.0f} instances of class'.format(num_annotations), generator.label_to_name(label),\n",
    "          'with average precision: {:.4f}'.format(average_precision))\n",
    "    total_instances.append(num_annotations)\n",
    "    precisions.append(average_precision)\n",
    "mean_ap = sum(precisions) / sum(x > 0 for x in total_instances)\n",
    "print('ProbIoU mAP0.5:0.95 = {:.4f}'.format(mean_ap))"
   ]
  },
  {
   "cell_type": "code",
   "execution_count": null,
   "id": "f5734a4b",
   "metadata": {},
   "outputs": [],
   "source": []
  }
 ],
 "metadata": {
  "kernelspec": {
   "display_name": "Python 3",
   "language": "python",
   "name": "python3"
  },
  "language_info": {
   "codemirror_mode": {
    "name": "ipython",
    "version": 3
   },
   "file_extension": ".py",
   "mimetype": "text/x-python",
   "name": "python",
   "nbconvert_exporter": "python",
   "pygments_lexer": "ipython3",
   "version": "3.6.8"
  }
 },
 "nbformat": 4,
 "nbformat_minor": 5
}
