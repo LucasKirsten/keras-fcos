{
 "cells": [
  {
   "cell_type": "markdown",
   "id": "954e2332",
   "metadata": {},
   "source": [
    "## PASCAL VOC 2007\n",
    "\n",
    "| **Loss**          | **IoU50**  | **IoU75**  | **IoU50:95** | **PIoU50** | **PIoU75** | **PIoU50:95** |\n",
    "| ----------------  | ---------- | ---------- | ------------ | ---------- | ---------- | ------------- |\n",
    "| ProbIoU           | 0.4035     | 0.0632     | 0.1433       | 0.5136     | 0.2858     | 0.2861        |\n",
    "| GIoU              | XXXXXXXXXX | XXXXXXXXXX | XXXXXXXXXXXX | XXXXXXXXXX | XXXXXXXXXX | XXXXXXXXXXXXX |\n",
    "| DIoU              | XXXXXXXXXX | XXXXXXXXXX | XXXXXXXXXXXX | XXXXXXXXXX | XXXXXXXXXX | XXXXXXXXXXXXX |\n",
    "| CIoU              | XXXXXXXXXX | XXXXXXXXXX | XXXXXXXXXXXX | XXXXXXXXXX | XXXXXXXXXX | XXXXXXXXXXXXX |\n",
    "| IoU (default)     | 0.5250     | 0.1334     | 0.2156       | 0.6322     | 0.4174     | 0.3840        |"
   ]
  },
  {
   "cell_type": "code",
   "execution_count": 1,
   "id": "b577f3f8",
   "metadata": {},
   "outputs": [
    {
     "name": "stderr",
     "output_type": "stream",
     "text": [
      "Using TensorFlow backend.\n"
     ]
    }
   ],
   "source": [
    "import os\n",
    "os.environ['CUDA_VISIBLE_DEVICES'] = ''\n",
    "\n",
    "import keras.backend as K\n",
    "from utils.eval import *\n",
    "from generators.voc_generator import PascalVocGenerator\n",
    "from utils.image import preprocess_image\n",
    "import models"
   ]
  },
  {
   "cell_type": "code",
   "execution_count": 2,
   "id": "c45fce21",
   "metadata": {},
   "outputs": [],
   "source": [
    "common_args = {\n",
    "    'batch_size': 1,\n",
    "    'image_min_side': 256,\n",
    "    'image_max_side': 512,\n",
    "    'preprocess_image': preprocess_image,\n",
    "}\n",
    "generator = PascalVocGenerator(\n",
    "    '/datasets/dataset/VOCdevkit/VOC2007',\n",
    "    'test',\n",
    "    shuffle_groups=False,\n",
    "    skip_truncated=False,\n",
    "    skip_difficult=True,\n",
    "    **common_args\n",
    ")"
   ]
  },
  {
   "cell_type": "code",
   "execution_count": 3,
   "id": "14c1d4e7",
   "metadata": {
    "collapsed": true,
    "jupyter": {
     "outputs_hidden": true
    },
    "tags": []
   },
   "outputs": [
    {
     "name": "stderr",
     "output_type": "stream",
     "text": [
      "WARNING: Logging before flag parsing goes to stderr.\n",
      "W0504 19:12:24.270689 140688801236800 deprecation_wrapper.py:119] From /usr/local/lib/python3.6/dist-packages/keras/backend/tensorflow_backend.py:95: The name tf.reset_default_graph is deprecated. Please use tf.compat.v1.reset_default_graph instead.\n",
      "\n",
      "W0504 19:12:24.271656 140688801236800 deprecation_wrapper.py:119] From /usr/local/lib/python3.6/dist-packages/keras/backend/tensorflow_backend.py:98: The name tf.placeholder_with_default is deprecated. Please use tf.compat.v1.placeholder_with_default instead.\n",
      "\n",
      "W0504 19:12:24.284628 140688801236800 deprecation_wrapper.py:119] From /usr/local/lib/python3.6/dist-packages/keras/backend/tensorflow_backend.py:102: The name tf.get_default_graph is deprecated. Please use tf.compat.v1.get_default_graph instead.\n",
      "\n",
      "W0504 19:12:24.293321 140688801236800 deprecation_wrapper.py:119] From /usr/local/lib/python3.6/dist-packages/keras/backend/tensorflow_backend.py:517: The name tf.placeholder is deprecated. Please use tf.compat.v1.placeholder instead.\n",
      "\n",
      "W0504 19:12:24.324923 140688801236800 deprecation_wrapper.py:119] From /usr/local/lib/python3.6/dist-packages/keras/backend/tensorflow_backend.py:4115: The name tf.random_normal is deprecated. Please use tf.random.normal instead.\n",
      "\n",
      "W0504 19:12:24.556629 140688801236800 deprecation_wrapper.py:119] From /usr/local/lib/python3.6/dist-packages/keras/backend/tensorflow_backend.py:1919: The name tf.nn.fused_batch_norm is deprecated. Please use tf.compat.v1.nn.fused_batch_norm instead.\n",
      "\n",
      "W0504 19:12:24.559882 140688801236800 deprecation_wrapper.py:119] From /usr/local/lib/python3.6/dist-packages/keras/backend/tensorflow_backend.py:3976: The name tf.nn.max_pool is deprecated. Please use tf.nn.max_pool2d instead.\n",
      "\n",
      "W0504 19:12:25.757351 140688801236800 deprecation_wrapper.py:119] From /workdir/msc/cell-detector/keras-fcos/utils_graph.py:108: The name tf.image.resize_images is deprecated. Please use tf.image.resize instead.\n",
      "\n",
      "W0504 19:12:28.756390 140688801236800 deprecation.py:323] From /workdir/msc/cell-detector/keras-fcos/layers.py:273: add_dispatch_support.<locals>.wrapper (from tensorflow.python.ops.array_ops) is deprecated and will be removed in a future version.\n",
      "Instructions for updating:\n",
      "Use tf.where in 2.0, which has the same broadcast rule as np.where\n"
     ]
    }
   ],
   "source": [
    "model_path = './snapshots/pascal_resnet50_probiou/finetuned/resnet50_pascal.h5'\n",
    "# load retinanet model\n",
    "K.clear_session()\n",
    "K.set_learning_phase(1)\n",
    "model = models.load_model(model_path, backbone_name='resnet50')\n",
    "# if the model is not converted to an inference model, use the line below\n",
    "# see: https://github.com/fizyr/keras-retinanet#converting-a-training-model-to-inference-model\n",
    "model = models.convert_model(model)"
   ]
  },
  {
   "cell_type": "code",
   "execution_count": 4,
   "id": "d90eadfe",
   "metadata": {
    "collapsed": true,
    "jupyter": {
     "outputs_hidden": true
    },
    "tags": []
   },
   "outputs": [
    {
     "name": "stderr",
     "output_type": "stream",
     "text": [
      "Running network: 100% (4952 of 4952) |###| Elapsed Time: 0:16:02 Time:  0:16:02\n",
      "Parsing annotations: 100% (4952 of 4952) || Elapsed Time: 0:00:01 Time:  0:00:01\n",
      "Evaluating threshold 0.50: 100% (20 of 20) || Elapsed Time: 0:00:19 Time:  0:00:19\n",
      "Evaluating threshold 0.55: N/A% (0 of 20) || Elapsed Time: 0:00:00 ETA:  --:--:--"
     ]
    },
    {
     "name": "stdout",
     "output_type": "stream",
     "text": [
      "AP0.50 = 0.4035\n"
     ]
    },
    {
     "name": "stderr",
     "output_type": "stream",
     "text": [
      "Evaluating threshold 0.55: 100% (20 of 20) || Elapsed Time: 0:00:19 Time:  0:00:19\n",
      "Evaluating threshold 0.60: N/A% (0 of 20) || Elapsed Time: 0:00:00 ETA:  --:--:--"
     ]
    },
    {
     "name": "stdout",
     "output_type": "stream",
     "text": [
      "AP0.55 = 0.3446\n"
     ]
    },
    {
     "name": "stderr",
     "output_type": "stream",
     "text": [
      "Evaluating threshold 0.60: 100% (20 of 20) || Elapsed Time: 0:00:19 Time:  0:00:19\n",
      "Evaluating threshold 0.65: N/A% (0 of 20) || Elapsed Time: 0:00:00 ETA:  --:--:--"
     ]
    },
    {
     "name": "stdout",
     "output_type": "stream",
     "text": [
      "AP0.60 = 0.2732\n"
     ]
    },
    {
     "name": "stderr",
     "output_type": "stream",
     "text": [
      "Evaluating threshold 0.65: 100% (20 of 20) || Elapsed Time: 0:00:18 Time:  0:00:18\n",
      "Evaluating threshold 0.70: N/A% (0 of 20) || Elapsed Time: 0:00:00 ETA:  --:--:--"
     ]
    },
    {
     "name": "stdout",
     "output_type": "stream",
     "text": [
      "AP0.65 = 0.1959\n"
     ]
    },
    {
     "name": "stderr",
     "output_type": "stream",
     "text": [
      "Evaluating threshold 0.70: 100% (20 of 20) || Elapsed Time: 0:00:16 Time:  0:00:16\n",
      "Evaluating threshold 0.75: N/A% (0 of 20) || Elapsed Time: 0:00:00 ETA:  --:--:--"
     ]
    },
    {
     "name": "stdout",
     "output_type": "stream",
     "text": [
      "AP0.70 = 0.1182\n"
     ]
    },
    {
     "name": "stderr",
     "output_type": "stream",
     "text": [
      "Evaluating threshold 0.75: 100% (20 of 20) || Elapsed Time: 0:00:16 Time:  0:00:16\n",
      "Evaluating threshold 0.80: N/A% (0 of 20) || Elapsed Time: 0:00:00 ETA:  --:--:--"
     ]
    },
    {
     "name": "stdout",
     "output_type": "stream",
     "text": [
      "AP0.75 = 0.0632\n"
     ]
    },
    {
     "name": "stderr",
     "output_type": "stream",
     "text": [
      "Evaluating threshold 0.80: 100% (20 of 20) || Elapsed Time: 0:00:18 Time:  0:00:18\n",
      "Evaluating threshold 0.85: N/A% (0 of 20) || Elapsed Time: 0:00:00 ETA:  --:--:--"
     ]
    },
    {
     "name": "stdout",
     "output_type": "stream",
     "text": [
      "AP0.80 = 0.0249\n"
     ]
    },
    {
     "name": "stderr",
     "output_type": "stream",
     "text": [
      "Evaluating threshold 0.85: 100% (20 of 20) || Elapsed Time: 0:00:19 Time:  0:00:19\n",
      "Evaluating threshold 0.90: N/A% (0 of 20) || Elapsed Time: 0:00:00 ETA:  --:--:--"
     ]
    },
    {
     "name": "stdout",
     "output_type": "stream",
     "text": [
      "AP0.85 = 0.0074\n"
     ]
    },
    {
     "name": "stderr",
     "output_type": "stream",
     "text": [
      "Evaluating threshold 0.90: 100% (20 of 20) || Elapsed Time: 0:00:19 Time:  0:00:19\n",
      "Evaluating threshold 0.95: N/A% (0 of 20) || Elapsed Time: 0:00:00 ETA:  --:--:--"
     ]
    },
    {
     "name": "stdout",
     "output_type": "stream",
     "text": [
      "AP0.90 = 0.0015\n"
     ]
    },
    {
     "name": "stderr",
     "output_type": "stream",
     "text": [
      "Evaluating threshold 0.95: 100% (20 of 20) || Elapsed Time: 0:00:19 Time:  0:00:19\n"
     ]
    },
    {
     "name": "stdout",
     "output_type": "stream",
     "text": [
      "AP0.95 = 0.0004\n",
      "num_fp=3614742.0, num_tp=40178.0\n",
      "285 instances of class aeroplane with average precision: 0.1407\n",
      "337 instances of class bicycle with average precision: 0.1995\n",
      "459 instances of class bird with average precision: 0.1183\n",
      "263 instances of class boat with average precision: 0.0635\n",
      "469 instances of class bottle with average precision: 0.0528\n",
      "213 instances of class bus with average precision: 0.1751\n",
      "1201 instances of class car with average precision: 0.2167\n",
      "358 instances of class cat with average precision: 0.2264\n",
      "756 instances of class chair with average precision: 0.0700\n",
      "244 instances of class cow with average precision: 0.1417\n",
      "206 instances of class diningtable with average precision: 0.1105\n",
      "489 instances of class dog with average precision: 0.1867\n",
      "348 instances of class horse with average precision: 0.1489\n",
      "325 instances of class motorbike with average precision: 0.1628\n",
      "4528 instances of class person with average precision: 0.1483\n",
      "480 instances of class pottedplant with average precision: 0.0622\n",
      "242 instances of class sheep with average precision: 0.1601\n",
      "239 instances of class sofa with average precision: 0.1097\n",
      "282 instances of class train with average precision: 0.1821\n",
      "308 instances of class tvmonitor with average precision: 0.1900\n",
      "IoU mAP0.5:0.95 = 0.1433\n"
     ]
    }
   ],
   "source": [
    "average_precisions = evaluate_mAP(generator, model, method='iou')\n",
    "\n",
    "# compute per class average precision\n",
    "total_instances = []\n",
    "precisions = []\n",
    "for label, (average_precision, num_annotations) in average_precisions.items():\n",
    "    print('{:.0f} instances of class'.format(num_annotations), generator.label_to_name(label),\n",
    "          'with average precision: {:.4f}'.format(average_precision))\n",
    "    total_instances.append(num_annotations)\n",
    "    precisions.append(average_precision)\n",
    "mean_ap = sum(precisions) / sum(x > 0 for x in total_instances)\n",
    "print('IoU mAP0.5:0.95 = {:.4f}'.format(mean_ap))"
   ]
  },
  {
   "cell_type": "code",
   "execution_count": 5,
   "id": "e9d42314",
   "metadata": {
    "collapsed": true,
    "jupyter": {
     "outputs_hidden": true
    },
    "tags": []
   },
   "outputs": [
    {
     "name": "stderr",
     "output_type": "stream",
     "text": [
      "Running network: 100% (4952 of 4952) |###| Elapsed Time: 0:16:00 Time:  0:16:00\n",
      "Parsing annotations: 100% (4952 of 4952) || Elapsed Time: 0:00:01 Time:  0:00:01\n",
      "Evaluating threshold 0.50: 100% (20 of 20) || Elapsed Time: 0:03:16 Time:  0:03:16\n",
      "Evaluating threshold 0.55: N/A% (0 of 20) || Elapsed Time: 0:00:00 ETA:  --:--:--"
     ]
    },
    {
     "name": "stdout",
     "output_type": "stream",
     "text": [
      "AP0.50 = 0.5136\n"
     ]
    },
    {
     "name": "stderr",
     "output_type": "stream",
     "text": [
      "Evaluating threshold 0.55: 100% (20 of 20) || Elapsed Time: 0:03:39 Time:  0:03:39\n",
      "Evaluating threshold 0.60: N/A% (0 of 20) || Elapsed Time: 0:00:00 ETA:  --:--:--"
     ]
    },
    {
     "name": "stdout",
     "output_type": "stream",
     "text": [
      "AP0.55 = 0.4988\n"
     ]
    },
    {
     "name": "stderr",
     "output_type": "stream",
     "text": [
      "Evaluating threshold 0.60: 100% (20 of 20) || Elapsed Time: 0:03:19 Time:  0:03:19\n",
      "Evaluating threshold 0.65: N/A% (0 of 20) || Elapsed Time: 0:00:00 ETA:  --:--:--"
     ]
    },
    {
     "name": "stdout",
     "output_type": "stream",
     "text": [
      "AP0.60 = 0.4746\n"
     ]
    },
    {
     "name": "stderr",
     "output_type": "stream",
     "text": [
      "Evaluating threshold 0.65: 100% (20 of 20) || Elapsed Time: 0:03:20 Time:  0:03:20\n",
      "Evaluating threshold 0.70: N/A% (0 of 20) || Elapsed Time: 0:00:00 ETA:  --:--:--"
     ]
    },
    {
     "name": "stdout",
     "output_type": "stream",
     "text": [
      "AP0.65 = 0.4374\n"
     ]
    },
    {
     "name": "stderr",
     "output_type": "stream",
     "text": [
      "Evaluating threshold 0.70: 100% (20 of 20) || Elapsed Time: 0:03:00 Time:  0:03:00\n",
      "Evaluating threshold 0.75: N/A% (0 of 20) || Elapsed Time: 0:00:00 ETA:  --:--:--"
     ]
    },
    {
     "name": "stdout",
     "output_type": "stream",
     "text": [
      "AP0.70 = 0.3749\n"
     ]
    },
    {
     "name": "stderr",
     "output_type": "stream",
     "text": [
      "Evaluating threshold 0.75: 100% (20 of 20) || Elapsed Time: 0:03:48 Time:  0:03:48\n",
      "Evaluating threshold 0.80: N/A% (0 of 20) || Elapsed Time: 0:00:00 ETA:  --:--:--"
     ]
    },
    {
     "name": "stdout",
     "output_type": "stream",
     "text": [
      "AP0.75 = 0.2858\n"
     ]
    },
    {
     "name": "stderr",
     "output_type": "stream",
     "text": [
      "Evaluating threshold 0.80: 100% (20 of 20) || Elapsed Time: 0:03:45 Time:  0:03:45\n",
      "Evaluating threshold 0.85: N/A% (0 of 20) || Elapsed Time: 0:00:00 ETA:  --:--:--"
     ]
    },
    {
     "name": "stdout",
     "output_type": "stream",
     "text": [
      "AP0.80 = 0.1796\n"
     ]
    },
    {
     "name": "stderr",
     "output_type": "stream",
     "text": [
      "Evaluating threshold 0.85: 100% (20 of 20) || Elapsed Time: 0:02:43 Time:  0:02:43\n",
      "Evaluating threshold 0.90: N/A% (0 of 20) || Elapsed Time: 0:00:00 ETA:  --:--:--"
     ]
    },
    {
     "name": "stdout",
     "output_type": "stream",
     "text": [
      "AP0.85 = 0.0784\n"
     ]
    },
    {
     "name": "stderr",
     "output_type": "stream",
     "text": [
      "Evaluating threshold 0.90: 100% (20 of 20) || Elapsed Time: 0:03:08 Time:  0:03:08\n",
      "Evaluating threshold 0.95: N/A% (0 of 20) || Elapsed Time: 0:00:00 ETA:  --:--:--"
     ]
    },
    {
     "name": "stdout",
     "output_type": "stream",
     "text": [
      "AP0.90 = 0.0170\n"
     ]
    },
    {
     "name": "stderr",
     "output_type": "stream",
     "text": [
      "Evaluating threshold 0.95: 100% (20 of 20) || Elapsed Time: 0:03:52 Time:  0:03:52\n"
     ]
    },
    {
     "name": "stdout",
     "output_type": "stream",
     "text": [
      "AP0.95 = 0.0010\n",
      "num_fp=3587280.0, num_tp=67640.0\n",
      "285 instances of class aeroplane with average precision: 0.2979\n",
      "337 instances of class bicycle with average precision: 0.3697\n",
      "459 instances of class bird with average precision: 0.2810\n",
      "263 instances of class boat with average precision: 0.1686\n",
      "469 instances of class bottle with average precision: 0.1214\n",
      "213 instances of class bus with average precision: 0.3280\n",
      "1201 instances of class car with average precision: 0.3926\n",
      "358 instances of class cat with average precision: 0.4186\n",
      "756 instances of class chair with average precision: 0.1499\n",
      "244 instances of class cow with average precision: 0.2822\n",
      "206 instances of class diningtable with average precision: 0.2198\n",
      "489 instances of class dog with average precision: 0.3609\n",
      "348 instances of class horse with average precision: 0.3256\n",
      "325 instances of class motorbike with average precision: 0.3204\n",
      "4528 instances of class person with average precision: 0.3147\n",
      "480 instances of class pottedplant with average precision: 0.1471\n",
      "242 instances of class sheep with average precision: 0.3166\n",
      "239 instances of class sofa with average precision: 0.2299\n",
      "282 instances of class train with average precision: 0.3492\n",
      "308 instances of class tvmonitor with average precision: 0.3280\n",
      "ProbIoU mAP0.5:0.95 = 0.2861\n"
     ]
    }
   ],
   "source": [
    "average_precisions = evaluate_mAP(generator, model, method='piou')\n",
    "\n",
    "# compute per class average precision\n",
    "total_instances = []\n",
    "precisions = []\n",
    "for label, (average_precision, num_annotations) in average_precisions.items():\n",
    "    print('{:.0f} instances of class'.format(num_annotations), generator.label_to_name(label),\n",
    "          'with average precision: {:.4f}'.format(average_precision))\n",
    "    total_instances.append(num_annotations)\n",
    "    precisions.append(average_precision)\n",
    "mean_ap = sum(precisions) / sum(x > 0 for x in total_instances)\n",
    "print('ProbIoU mAP0.5:0.95 = {:.4f}'.format(mean_ap))"
   ]
  },
  {
   "cell_type": "code",
   "execution_count": null,
   "id": "c105f182",
   "metadata": {},
   "outputs": [],
   "source": []
  }
 ],
 "metadata": {
  "kernelspec": {
   "display_name": "Python 3",
   "language": "python",
   "name": "python3"
  },
  "language_info": {
   "codemirror_mode": {
    "name": "ipython",
    "version": 3
   },
   "file_extension": ".py",
   "mimetype": "text/x-python",
   "name": "python",
   "nbconvert_exporter": "python",
   "pygments_lexer": "ipython3",
   "version": "3.6.9"
  }
 },
 "nbformat": 4,
 "nbformat_minor": 5
}
