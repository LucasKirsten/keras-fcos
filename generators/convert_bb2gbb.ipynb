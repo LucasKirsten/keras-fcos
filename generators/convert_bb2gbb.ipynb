{
 "cells": [
  {
   "cell_type": "code",
   "execution_count": 1,
   "metadata": {},
   "outputs": [],
   "source": [
    "import os\n",
    "import cv2\n",
    "import numpy as np\n",
    "from tqdm import tqdm\n",
    "import matplotlib.pyplot as plt\n",
    "from pycocotools.coco import COCO\n",
    "import multiprocessing\n",
    "from joblib import Parallel, delayed\n",
    "from get_obb_gbb_from_coco import _gen_seg_mask, segmentation_to_rotation_bbox"
   ]
  },
  {
   "cell_type": "code",
   "execution_count": 2,
   "metadata": {},
   "outputs": [],
   "source": [
    "train_file  = '/datasets/dataset/coco2017/annotations/instances_train2017.json'\n",
    "train_image = '/datasets/dataset/coco2017/train2017'\n",
    "val_file   = '/datasets/dataset/coco2017/annotations/instances_val2017.json'\n",
    "val_image  = '/datasets/dataset/coco2017/val2017'\n",
    "\n",
    "resize = (512,512)\n",
    "\n",
    "#voc_cats = [\n",
    "#    'airplane', 'bicycle', 'bird', 'boat', 'bottle', 'bus', 'car', 'cat', 'chair', 'cow', 'dining table',\n",
    "#    'dog', 'horse', 'motorcycle', 'person', 'potted plant', 'sheep', 'sofa', 'train', 'tv'\n",
    "#]\n",
    "voc_cats = ['cat', 'dog']"
   ]
  },
  {
   "cell_type": "code",
   "execution_count": 3,
   "metadata": {},
   "outputs": [],
   "source": [
    "def translateRotation(rotation, width, height):\n",
    "    if (width > height):\n",
    "        rotation = rotation + 90\n",
    "    else:\n",
    "        rotation = rotation + 180\n",
    "    rotation = rotation-90\n",
    "    return rotation"
   ]
  },
  {
   "cell_type": "code",
   "execution_count": 4,
   "metadata": {
    "tags": []
   },
   "outputs": [],
   "source": [
    "def write_annotation(ann_file, img_path):\n",
    "    coco = COCO(ann_file)\n",
    "    catIds = coco.getCatIds(catNms=voc_cats)\n",
    "    name_id = dict(zip(catIds, voc_cats))\n",
    "    \n",
    "    with open(ann_file.replace('.json', '_obb_cat_dog.csv'), 'w') as writer:\n",
    "\n",
    "        writer.write('file_name,x1,y1,x2,y2,label,angle\\n')\n",
    "\n",
    "        def _write(index):\n",
    "            \n",
    "            img_metadata = coco.loadImgs(index)[0]\n",
    "            if not os.path.exists(os.path.join(img_path, img_metadata['file_name'])):\n",
    "                return\n",
    "            annotation   = coco.loadAnns(coco.getAnnIds(imgIds=index))\n",
    "            h_img = img_metadata['height']\n",
    "            w_img = img_metadata['width']\n",
    "            seg_mask, labels = _gen_seg_mask(annotation, h_img, w_img)\n",
    "\n",
    "            obb_all, final_labels = [],[]\n",
    "\n",
    "            MinPixels = 20\t # ignores regions that are very small -- must check!\n",
    "            for i in range(1, seg_mask.max() + 1):\n",
    "                if np.sum(seg_mask == i) < MinPixels:\n",
    "                    continue\n",
    "                    \n",
    "                if not (labels[i-1] in catIds):\n",
    "                    continue\n",
    "                    \n",
    "                mask_inst  = seg_mask.copy()\n",
    "                # generates binary image with current object\n",
    "                mask_inst[mask_inst!=i] = 0\n",
    "\n",
    "                # draw contours and get OBBs\n",
    "                contours,hierarchy = cv2.findContours(cv2.resize(mask_inst, resize), 1, 2)\n",
    "                box = np.int0(np.concatenate(contours, axis=0))\n",
    "\n",
    "                rect1  = cv2.minAreaRect(box) # ((x,y), (w,h), angle) in opencv style\n",
    "                points = np.int0(cv2.boxPoints(rect1)) # 2x4 matrix, representing corner points\n",
    "                bbox = [rect1[0][0], rect1[0][1], rect1[1][0], rect1[1][1], rect1[2]]\n",
    "\n",
    "                obb_all.append(bbox)\n",
    "                final_labels.append(labels[i-1])\n",
    "            \n",
    "            # write OBBs and labels\n",
    "            for g,l in zip(obb_all, final_labels):\n",
    "                x,y,w,h,angle = bbox\n",
    "                w = max(w, h); h = min(w, h)\n",
    "                x1 = x-w/2;x2 = x+w/2\n",
    "                y1 = y-h/2;y2 = y+h/2\n",
    "                angle = translateRotation(angle, w_img, h_img)\n",
    "                \n",
    "                writer.write(f\"{img_metadata['file_name']},{x1},{y1},{x2},{y2},{name_id[l]},{angle}\\n\")\n",
    "        \n",
    "        # run writing\n",
    "        num_cores = multiprocessing.cpu_count()\n",
    "        with Parallel(n_jobs=num_cores, prefer=\"threads\") as parallel:\n",
    "            parallel(delayed(_write)(index) for index in tqdm(coco.imgs))"
   ]
  },
  {
   "cell_type": "code",
   "execution_count": 5,
   "metadata": {},
   "outputs": [
    {
     "name": "stdout",
     "output_type": "stream",
     "text": [
      "loading annotations into memory...\n",
      "Done (t=13.07s)\n",
      "creating index...\n"
     ]
    },
    {
     "name": "stderr",
     "output_type": "stream",
     "text": [
      "  0%|          | 24/118287 [00:00<12:42, 155.15it/s]"
     ]
    },
    {
     "name": "stdout",
     "output_type": "stream",
     "text": [
      "index created!\n"
     ]
    },
    {
     "name": "stderr",
     "output_type": "stream",
     "text": [
      "100%|██████████| 118287/118287 [14:07<00:00, 139.64it/s]\n"
     ]
    }
   ],
   "source": [
    "write_annotation(train_file, train_image)"
   ]
  },
  {
   "cell_type": "code",
   "execution_count": 6,
   "metadata": {},
   "outputs": [
    {
     "name": "stdout",
     "output_type": "stream",
     "text": [
      "loading annotations into memory...\n"
     ]
    },
    {
     "name": "stderr",
     "output_type": "stream",
     "text": [
      "  0%|          | 24/5000 [00:00<00:25, 197.79it/s]"
     ]
    },
    {
     "name": "stdout",
     "output_type": "stream",
     "text": [
      "Done (t=0.42s)\n",
      "creating index...\n",
      "index created!\n"
     ]
    },
    {
     "name": "stderr",
     "output_type": "stream",
     "text": [
      "100%|██████████| 5000/5000 [00:35<00:00, 139.37it/s]\n"
     ]
    }
   ],
   "source": [
    "write_annotation(val_file, val_image)"
   ]
  },
  {
   "cell_type": "code",
   "execution_count": null,
   "metadata": {},
   "outputs": [],
   "source": []
  },
  {
   "cell_type": "code",
   "execution_count": 7,
   "metadata": {},
   "outputs": [],
   "source": [
    "voc_ids = dict(zip(voc_cats, range(1,len(voc_cats)+1)))\n",
    "\n",
    "with open('/datasets/dataset/coco2017/annotations/classes_cat_dog.csv', 'w') as file:\n",
    "    \n",
    "    file.write('name,id\\n')\n",
    "    \n",
    "    for name,id in voc_ids.items():\n",
    "        file.write(f'{name},{id}\\n')"
   ]
  },
  {
   "cell_type": "code",
   "execution_count": null,
   "metadata": {},
   "outputs": [],
   "source": []
  }
 ],
 "metadata": {
  "kernelspec": {
   "display_name": "Python 3",
   "language": "python",
   "name": "python3"
  },
  "language_info": {
   "codemirror_mode": {
    "name": "ipython",
    "version": 3
   },
   "file_extension": ".py",
   "mimetype": "text/x-python",
   "name": "python",
   "nbconvert_exporter": "python",
   "pygments_lexer": "ipython3",
   "version": "3.6.8"
  }
 },
 "nbformat": 4,
 "nbformat_minor": 4
}
