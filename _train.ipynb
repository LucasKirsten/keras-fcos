{
 "cells": [
  {
   "cell_type": "code",
   "execution_count": 1,
   "id": "d092e33e",
   "metadata": {},
   "outputs": [],
   "source": [
    "%load_ext autoreload\n",
    "%autoreload 2"
   ]
  },
  {
   "cell_type": "code",
   "execution_count": 2,
   "id": "1b26b396",
   "metadata": {
    "tags": []
   },
   "outputs": [
    {
     "name": "stderr",
     "output_type": "stream",
     "text": [
      "Using TensorFlow backend.\n",
      "WARNING: Logging before flag parsing goes to stderr.\n",
      "W0504 01:50:02.736723 139707239802688 deprecation_wrapper.py:119] From /workdir/msc/cell-detector/keras-fcos/train.py:47: The name tf.set_random_seed is deprecated. Please use tf.compat.v1.set_random_seed instead.\n",
      "\n"
     ]
    }
   ],
   "source": [
    "import os\n",
    "os.environ[\"CUDA_DEVICE_ORDER\"]=\"PCI_BUS_ID\"\n",
    "os.environ['CUDA_VISIBLE_DEVICES'] = '0,1'\n",
    "\n",
    "from train import *"
   ]
  },
  {
   "cell_type": "markdown",
   "id": "14a68510",
   "metadata": {},
   "source": [
    "## Default IoU loss"
   ]
  },
  {
   "cell_type": "code",
   "execution_count": null,
   "id": "ce83c4a8",
   "metadata": {
    "collapsed": true,
    "jupyter": {
     "outputs_hidden": true
    },
    "tags": []
   },
   "outputs": [
    {
     "name": "stdout",
     "output_type": "stream",
     "text": [
      "{'dataset_type': 'pascal', 'snapshot': None, 'imagenet_weights': True, 'weights': None, 'backbone': 'resnet50', 'batch_size': 24, 'gpu': None, 'num_gpus': 0, 'multi_gpu_force': False, 'epochs': 50, 'steps': 10000, 'lr': 0.0001, 'snapshot_path': './snapshots/pascal_resnet50_iou', 'tensorboard_dir': 'logs/2021-05-04', 'snapshots': True, 'evaluation': True, 'freeze_backbone': True, 'random_transform': False, 'image_min_side': 256, 'image_max_side': 512, 'config': None, 'weighted_average': False, 'compute_val_loss': True, 'loss': 'iou', 'loss_weight': 1.0, 'multiprocessing': False, 'workers': 1, 'max_queue_size': 10, 'pascal_path': '/datasets/dataset/VOCdevkit/VOC2007'}\n"
     ]
    },
    {
     "name": "stderr",
     "output_type": "stream",
     "text": [
      "W0504 01:50:03.585574 139707239802688 deprecation_wrapper.py:119] From /usr/local/lib/python3.6/dist-packages/keras/backend/tensorflow_backend.py:74: The name tf.get_default_graph is deprecated. Please use tf.compat.v1.get_default_graph instead.\n",
      "\n",
      "W0504 01:50:03.586313 139707239802688 deprecation_wrapper.py:119] From /usr/local/lib/python3.6/dist-packages/keras/backend/tensorflow_backend.py:517: The name tf.placeholder is deprecated. Please use tf.compat.v1.placeholder instead.\n",
      "\n",
      "W0504 01:50:03.588708 139707239802688 deprecation_wrapper.py:119] From /usr/local/lib/python3.6/dist-packages/keras/backend/tensorflow_backend.py:4138: The name tf.random_uniform is deprecated. Please use tf.random.uniform instead.\n",
      "\n",
      "W0504 01:50:03.605383 139707239802688 deprecation_wrapper.py:119] From /usr/local/lib/python3.6/dist-packages/keras/backend/tensorflow_backend.py:1919: The name tf.nn.fused_batch_norm is deprecated. Please use tf.compat.v1.nn.fused_batch_norm instead.\n",
      "\n",
      "W0504 01:50:03.607646 139707239802688 deprecation_wrapper.py:119] From /usr/local/lib/python3.6/dist-packages/keras/backend/tensorflow_backend.py:3976: The name tf.nn.max_pool is deprecated. Please use tf.nn.max_pool2d instead.\n",
      "\n",
      "W0504 01:50:03.609445 139707239802688 deprecation_wrapper.py:119] From /usr/local/lib/python3.6/dist-packages/keras/backend/tensorflow_backend.py:4185: The name tf.truncated_normal is deprecated. Please use tf.random.truncated_normal instead.\n",
      "\n"
     ]
    },
    {
     "name": "stdout",
     "output_type": "stream",
     "text": [
      "Creating model, this may take a second...\n"
     ]
    },
    {
     "name": "stderr",
     "output_type": "stream",
     "text": [
      "W0504 01:50:04.650446 139707239802688 deprecation_wrapper.py:119] From /workdir/msc/cell-detector/keras-fcos/utils_graph.py:108: The name tf.image.resize_images is deprecated. Please use tf.image.resize instead.\n",
      "\n",
      "W0504 01:50:07.407120 139707239802688 deprecation.py:323] From /workdir/msc/cell-detector/keras-fcos/layers.py:273: add_dispatch_support.<locals>.wrapper (from tensorflow.python.ops.array_ops) is deprecated and will be removed in a future version.\n",
      "Instructions for updating:\n",
      "Use tf.where in 2.0, which has the same broadcast rule as np.where\n",
      "W0504 01:50:08.229908 139707239802688 deprecation_wrapper.py:119] From /usr/local/lib/python3.6/dist-packages/keras/optimizers.py:790: The name tf.train.Optimizer is deprecated. Please use tf.compat.v1.train.Optimizer instead.\n",
      "\n"
     ]
    },
    {
     "name": "stdout",
     "output_type": "stream",
     "text": [
      "Evaluating model using  iou\n"
     ]
    },
    {
     "name": "stderr",
     "output_type": "stream",
     "text": [
      "W0504 01:50:12.885019 139707239802688 deprecation_wrapper.py:119] From /usr/local/lib/python3.6/dist-packages/keras/callbacks.py:850: The name tf.summary.merge_all is deprecated. Please use tf.compat.v1.summary.merge_all instead.\n",
      "\n",
      "W0504 01:50:12.885657 139707239802688 deprecation_wrapper.py:119] From /usr/local/lib/python3.6/dist-packages/keras/callbacks.py:853: The name tf.summary.FileWriter is deprecated. Please use tf.compat.v1.summary.FileWriter instead.\n",
      "\n"
     ]
    },
    {
     "name": "stdout",
     "output_type": "stream",
     "text": [
      "Epoch 1/50\n",
      " 40/209 [====>.........................] - ETA: 1:57 - loss: 2.2491 - regression_loss: 0.8573 - classification_loss: 0.7167 - centerness_loss: 0.6751"
     ]
    },
    {
     "name": "stderr",
     "output_type": "stream",
     "text": [
      "/workdir/msc/cell-detector/keras-fcos/generators/generator.py:258: UserWarning: Image with id 2077 (shape (333, 500, 3)) contains no valid boxes after transform\n",
      "  image.shape,\n"
     ]
    },
    {
     "name": "stdout",
     "output_type": "stream",
     "text": [
      "119/209 [================>.............] - ETA: 50s - loss: 1.9986 - regression_loss: 0.7407 - classification_loss: 0.6015 - centerness_loss: 0.6563"
     ]
    },
    {
     "name": "stderr",
     "output_type": "stream",
     "text": [
      "/workdir/msc/cell-detector/keras-fcos/generators/generator.py:258: UserWarning: Image with id 366 (shape (375, 500, 3)) contains no valid boxes after transform\n",
      "  image.shape,\n"
     ]
    },
    {
     "name": "stdout",
     "output_type": "stream",
     "text": [
      "208/209 [============================>.] - ETA: 0s - loss: 1.8807 - regression_loss: 0.6933 - classification_loss: 0.5403 - centerness_loss: 0.6471"
     ]
    },
    {
     "name": "stderr",
     "output_type": "stream",
     "text": [
      "/workdir/msc/cell-detector/keras-fcos/generators/generator.py:258: UserWarning: Image with id 192 (shape (375, 500, 3)) contains no valid boxes after transform\n",
      "  image.shape,\n"
     ]
    },
    {
     "name": "stdout",
     "output_type": "stream",
     "text": [
      "209/209 [==============================] - 137s 656ms/step - loss: 1.8797 - regression_loss: 0.6930 - classification_loss: 0.5396 - centerness_loss: 0.6471 - val_loss: 1.6427 - val_regression_loss: 0.5970 - val_classification_loss: 0.4171 - val_centerness_loss: 0.6286\n"
     ]
    },
    {
     "name": "stderr",
     "output_type": "stream",
     "text": [
      "Running network: 100% (2510 of 2510) |###| Elapsed Time: 0:01:35 Time:  0:01:35\n",
      "Parsing annotations: 100% (2510 of 2510) || Elapsed Time: 0:00:00 Time:  0:00:00\n"
     ]
    },
    {
     "name": "stdout",
     "output_type": "stream",
     "text": [
      "155 instances of class aeroplane with average precision: 0.0604\n",
      "177 instances of class bicycle with average precision: 0.1126\n",
      "243 instances of class bird with average precision: 0.0241\n",
      "150 instances of class boat with average precision: 0.0078\n",
      "252 instances of class bottle with average precision: 0.0002\n",
      "114 instances of class bus with average precision: 0.0378\n",
      "625 instances of class car with average precision: 0.1731\n",
      "190 instances of class cat with average precision: 0.1752\n",
      "398 instances of class chair with average precision: 0.0352\n",
      "123 instances of class cow with average precision: 0.0372\n",
      "112 instances of class diningtable with average precision: 0.0560\n",
      "257 instances of class dog with average precision: 0.0811\n",
      "180 instances of class horse with average precision: 0.0764\n",
      "172 instances of class motorbike with average precision: 0.1617\n",
      "2332 instances of class person with average precision: 0.1927\n",
      "266 instances of class pottedplant with average precision: 0.0035\n",
      "127 instances of class sheep with average precision: 0.0144\n",
      "124 instances of class sofa with average precision: 0.0541\n",
      "152 instances of class train with average precision: 0.1753\n",
      "158 instances of class tvmonitor with average precision: 0.0088\n",
      "mAP: 0.0744\n",
      "\n",
      "Epoch 00001: mAP improved from -inf to 0.07437, saving model to ./snapshots/pascal_resnet50_iou/resnet50_pascal.h5\n",
      "Epoch 2/50\n",
      "209/209 [==============================] - 107s 511ms/step - loss: 1.5752 - regression_loss: 0.5869 - classification_loss: 0.3656 - centerness_loss: 0.6228 - val_loss: 1.5064 - val_regression_loss: 0.5337 - val_classification_loss: 0.3553 - val_centerness_loss: 0.6174\n"
     ]
    },
    {
     "name": "stderr",
     "output_type": "stream",
     "text": [
      "Running network: 100% (2510 of 2510) |###| Elapsed Time: 0:01:01 Time:  0:01:01\n",
      "Parsing annotations: 100% (2510 of 2510) || Elapsed Time: 0:00:00 Time:  0:00:00\n"
     ]
    },
    {
     "name": "stdout",
     "output_type": "stream",
     "text": [
      "155 instances of class aeroplane with average precision: 0.1846\n",
      "177 instances of class bicycle with average precision: 0.1230\n",
      "243 instances of class bird with average precision: 0.1915\n",
      "150 instances of class boat with average precision: 0.0811\n",
      "252 instances of class bottle with average precision: 0.0506\n",
      "114 instances of class bus with average precision: 0.0949\n",
      "625 instances of class car with average precision: 0.3474\n",
      "190 instances of class cat with average precision: 0.3970\n",
      "398 instances of class chair with average precision: 0.1020\n",
      "123 instances of class cow with average precision: 0.2002\n",
      "112 instances of class diningtable with average precision: 0.1581\n",
      "257 instances of class dog with average precision: 0.3137\n",
      "180 instances of class horse with average precision: 0.2233\n",
      "172 instances of class motorbike with average precision: 0.3206\n",
      "2332 instances of class person with average precision: 0.3065\n",
      "266 instances of class pottedplant with average precision: 0.0253\n",
      "127 instances of class sheep with average precision: 0.0475\n",
      "124 instances of class sofa with average precision: 0.1691\n",
      "152 instances of class train with average precision: 0.3913\n",
      "158 instances of class tvmonitor with average precision: 0.3430\n",
      "mAP: 0.2035\n",
      "\n",
      "Epoch 00002: mAP improved from 0.07437 to 0.20354, saving model to ./snapshots/pascal_resnet50_iou/resnet50_pascal.h5\n",
      "Epoch 3/50\n",
      "209/209 [==============================] - 107s 512ms/step - loss: 1.4646 - regression_loss: 0.5407 - classification_loss: 0.3085 - centerness_loss: 0.6153 - val_loss: 1.3841 - val_regression_loss: 0.4962 - val_classification_loss: 0.2753 - val_centerness_loss: 0.6126\n"
     ]
    },
    {
     "name": "stderr",
     "output_type": "stream",
     "text": [
      "Running network: 100% (2510 of 2510) |###| Elapsed Time: 0:01:00 Time:  0:01:00\n",
      "Parsing annotations: 100% (2510 of 2510) || Elapsed Time: 0:00:00 Time:  0:00:00\n"
     ]
    },
    {
     "name": "stdout",
     "output_type": "stream",
     "text": [
      "155 instances of class aeroplane with average precision: 0.2935\n",
      "177 instances of class bicycle with average precision: 0.4077\n",
      "243 instances of class bird with average precision: 0.2233\n",
      "150 instances of class boat with average precision: 0.2041\n",
      "252 instances of class bottle with average precision: 0.1281\n",
      "114 instances of class bus with average precision: 0.2693\n",
      "625 instances of class car with average precision: 0.3186\n",
      "190 instances of class cat with average precision: 0.4673\n",
      "398 instances of class chair with average precision: 0.2450\n",
      "123 instances of class cow with average precision: 0.2765\n",
      "112 instances of class diningtable with average precision: 0.1497\n",
      "257 instances of class dog with average precision: 0.4019\n",
      "180 instances of class horse with average precision: 0.2635\n",
      "172 instances of class motorbike with average precision: 0.3689\n",
      "2332 instances of class person with average precision: 0.3849\n",
      "266 instances of class pottedplant with average precision: 0.1381\n",
      "127 instances of class sheep with average precision: 0.1708\n",
      "124 instances of class sofa with average precision: 0.2810\n",
      "152 instances of class train with average precision: 0.4537\n",
      "158 instances of class tvmonitor with average precision: 0.3342\n",
      "mAP: 0.2890\n",
      "\n",
      "Epoch 00003: mAP improved from 0.20354 to 0.28901, saving model to ./snapshots/pascal_resnet50_iou/resnet50_pascal.h5\n",
      "Epoch 4/50\n",
      "209/209 [==============================] - 107s 514ms/step - loss: 1.4083 - regression_loss: 0.5130 - classification_loss: 0.2838 - centerness_loss: 0.6114 - val_loss: 1.3356 - val_regression_loss: 0.4610 - val_classification_loss: 0.2640 - val_centerness_loss: 0.6106\n"
     ]
    },
    {
     "name": "stderr",
     "output_type": "stream",
     "text": [
      "Running network: 100% (2510 of 2510) |###| Elapsed Time: 0:00:59 Time:  0:00:59\n",
      "Parsing annotations: 100% (2510 of 2510) || Elapsed Time: 0:00:00 Time:  0:00:00\n"
     ]
    },
    {
     "name": "stdout",
     "output_type": "stream",
     "text": [
      "155 instances of class aeroplane with average precision: 0.4511\n",
      "177 instances of class bicycle with average precision: 0.4378\n",
      "243 instances of class bird with average precision: 0.3815\n",
      "150 instances of class boat with average precision: 0.3274\n",
      "252 instances of class bottle with average precision: 0.1670\n",
      "114 instances of class bus with average precision: 0.3581\n",
      "625 instances of class car with average precision: 0.4768\n",
      "190 instances of class cat with average precision: 0.6049\n",
      "398 instances of class chair with average precision: 0.2653\n",
      "123 instances of class cow with average precision: 0.2782\n",
      "112 instances of class diningtable with average precision: 0.2707\n",
      "257 instances of class dog with average precision: 0.5340\n",
      "180 instances of class horse with average precision: 0.3360\n",
      "172 instances of class motorbike with average precision: 0.5571\n",
      "2332 instances of class person with average precision: 0.4164\n",
      "266 instances of class pottedplant with average precision: 0.1513\n",
      "127 instances of class sheep with average precision: 0.3002\n",
      "124 instances of class sofa with average precision: 0.3640\n",
      "152 instances of class train with average precision: 0.4808\n",
      "158 instances of class tvmonitor with average precision: 0.4628\n",
      "mAP: 0.3811\n",
      "\n",
      "Epoch 00004: mAP improved from 0.28901 to 0.38107, saving model to ./snapshots/pascal_resnet50_iou/resnet50_pascal.h5\n",
      "Epoch 5/50\n",
      "209/209 [==============================] - 107s 512ms/step - loss: 1.3597 - regression_loss: 0.4892 - classification_loss: 0.2615 - centerness_loss: 0.6090 - val_loss: 1.3245 - val_regression_loss: 0.4576 - val_classification_loss: 0.2582 - val_centerness_loss: 0.6086\n"
     ]
    },
    {
     "name": "stderr",
     "output_type": "stream",
     "text": [
      "Running network: 100% (2510 of 2510) |###| Elapsed Time: 0:01:00 Time:  0:01:00\n",
      "Parsing annotations: 100% (2510 of 2510) || Elapsed Time: 0:00:00 Time:  0:00:00\n"
     ]
    },
    {
     "name": "stdout",
     "output_type": "stream",
     "text": [
      "155 instances of class aeroplane with average precision: 0.5839\n",
      "177 instances of class bicycle with average precision: 0.3196\n",
      "243 instances of class bird with average precision: 0.3290\n",
      "150 instances of class boat with average precision: 0.2825\n",
      "252 instances of class bottle with average precision: 0.1108\n",
      "114 instances of class bus with average precision: 0.5216\n",
      "625 instances of class car with average precision: 0.5136\n",
      "190 instances of class cat with average precision: 0.6582\n",
      "398 instances of class chair with average precision: 0.2690\n",
      "123 instances of class cow with average precision: 0.4011\n",
      "112 instances of class diningtable with average precision: 0.3140\n",
      "257 instances of class dog with average precision: 0.6100\n",
      "180 instances of class horse with average precision: 0.5791\n",
      "172 instances of class motorbike with average precision: 0.6321\n",
      "2332 instances of class person with average precision: 0.4652\n",
      "266 instances of class pottedplant with average precision: 0.1523\n",
      "127 instances of class sheep with average precision: 0.2805\n",
      "124 instances of class sofa with average precision: 0.3434\n",
      "152 instances of class train with average precision: 0.5608\n",
      "158 instances of class tvmonitor with average precision: 0.4868\n",
      "mAP: 0.4207\n",
      "\n",
      "Epoch 00005: mAP improved from 0.38107 to 0.42068, saving model to ./snapshots/pascal_resnet50_iou/resnet50_pascal.h5\n",
      "Epoch 6/50\n",
      "209/209 [==============================] - 107s 512ms/step - loss: 1.3229 - regression_loss: 0.4625 - classification_loss: 0.2530 - centerness_loss: 0.6074 - val_loss: 1.2857 - val_regression_loss: 0.4394 - val_classification_loss: 0.2406 - val_centerness_loss: 0.6057\n"
     ]
    },
    {
     "name": "stderr",
     "output_type": "stream",
     "text": [
      "Running network: 100% (2510 of 2510) |###| Elapsed Time: 0:00:59 Time:  0:00:59\n",
      "Parsing annotations: 100% (2510 of 2510) || Elapsed Time: 0:00:00 Time:  0:00:00\n"
     ]
    },
    {
     "name": "stdout",
     "output_type": "stream",
     "text": [
      "155 instances of class aeroplane with average precision: 0.5378\n",
      "177 instances of class bicycle with average precision: 0.5067\n",
      "243 instances of class bird with average precision: 0.3315\n",
      "150 instances of class boat with average precision: 0.2979\n",
      "252 instances of class bottle with average precision: 0.2170\n",
      "114 instances of class bus with average precision: 0.4436\n",
      "625 instances of class car with average precision: 0.5372\n",
      "190 instances of class cat with average precision: 0.6582\n",
      "398 instances of class chair with average precision: 0.3492\n",
      "123 instances of class cow with average precision: 0.4305\n",
      "112 instances of class diningtable with average precision: 0.3923\n",
      "257 instances of class dog with average precision: 0.6138\n",
      "180 instances of class horse with average precision: 0.4908\n",
      "172 instances of class motorbike with average precision: 0.5359\n",
      "2332 instances of class person with average precision: 0.5182\n",
      "266 instances of class pottedplant with average precision: 0.2409\n",
      "127 instances of class sheep with average precision: 0.2321\n",
      "124 instances of class sofa with average precision: 0.4688\n",
      "152 instances of class train with average precision: 0.6216\n",
      "158 instances of class tvmonitor with average precision: 0.5944\n",
      "mAP: 0.4509\n",
      "\n",
      "Epoch 00006: mAP improved from 0.42068 to 0.45093, saving model to ./snapshots/pascal_resnet50_iou/resnet50_pascal.h5\n",
      "Epoch 7/50\n",
      "209/209 [==============================] - 107s 512ms/step - loss: 1.3076 - regression_loss: 0.4617 - classification_loss: 0.2403 - centerness_loss: 0.6056 - val_loss: 1.2651 - val_regression_loss: 0.4347 - val_classification_loss: 0.2267 - val_centerness_loss: 0.6037\n"
     ]
    },
    {
     "name": "stderr",
     "output_type": "stream",
     "text": [
      "Running network: 100% (2510 of 2510) |###| Elapsed Time: 0:00:59 Time:  0:00:59\n",
      "Parsing annotations: 100% (2510 of 2510) || Elapsed Time: 0:00:00 Time:  0:00:00\n"
     ]
    },
    {
     "name": "stdout",
     "output_type": "stream",
     "text": [
      "155 instances of class aeroplane with average precision: 0.6552\n",
      "177 instances of class bicycle with average precision: 0.5197\n",
      "243 instances of class bird with average precision: 0.4735\n",
      "150 instances of class boat with average precision: 0.4367\n",
      "252 instances of class bottle with average precision: 0.2752\n",
      "114 instances of class bus with average precision: 0.5953\n",
      "625 instances of class car with average precision: 0.5442\n",
      "190 instances of class cat with average precision: 0.7502\n",
      "398 instances of class chair with average precision: 0.4022\n",
      "123 instances of class cow with average precision: 0.5439\n",
      "112 instances of class diningtable with average precision: 0.3618\n",
      "257 instances of class dog with average precision: 0.6297\n",
      "180 instances of class horse with average precision: 0.6407\n",
      "172 instances of class motorbike with average precision: 0.6448\n",
      "2332 instances of class person with average precision: 0.5528\n",
      "266 instances of class pottedplant with average precision: 0.2946\n",
      "127 instances of class sheep with average precision: 0.4294\n",
      "124 instances of class sofa with average precision: 0.4383\n",
      "152 instances of class train with average precision: 0.6938\n",
      "158 instances of class tvmonitor with average precision: 0.5709\n",
      "mAP: 0.5226\n",
      "\n",
      "Epoch 00007: mAP improved from 0.45093 to 0.52264, saving model to ./snapshots/pascal_resnet50_iou/resnet50_pascal.h5\n",
      "Epoch 8/50\n",
      "209/209 [==============================] - 107s 512ms/step - loss: 1.2945 - regression_loss: 0.4585 - classification_loss: 0.2315 - centerness_loss: 0.6045 - val_loss: 1.2848 - val_regression_loss: 0.4675 - val_classification_loss: 0.2146 - val_centerness_loss: 0.6027\n"
     ]
    },
    {
     "name": "stderr",
     "output_type": "stream",
     "text": [
      "Running network: 100% (2510 of 2510) |###| Elapsed Time: 0:00:59 Time:  0:00:59\n",
      "Parsing annotations: 100% (2510 of 2510) || Elapsed Time: 0:00:00 Time:  0:00:00\n"
     ]
    },
    {
     "name": "stdout",
     "output_type": "stream",
     "text": [
      "155 instances of class aeroplane with average precision: 0.5907\n",
      "177 instances of class bicycle with average precision: 0.6044\n",
      "243 instances of class bird with average precision: 0.4571\n",
      "150 instances of class boat with average precision: 0.3934\n",
      "252 instances of class bottle with average precision: 0.2400\n",
      "114 instances of class bus with average precision: 0.4860\n",
      "625 instances of class car with average precision: 0.4983\n",
      "190 instances of class cat with average precision: 0.6596\n",
      "398 instances of class chair with average precision: 0.3895\n",
      "123 instances of class cow with average precision: 0.5172\n",
      "112 instances of class diningtable with average precision: 0.4532\n",
      "257 instances of class dog with average precision: 0.5409\n",
      "180 instances of class horse with average precision: 0.5391\n",
      "172 instances of class motorbike with average precision: 0.7014\n",
      "2332 instances of class person with average precision: 0.5235\n",
      "266 instances of class pottedplant with average precision: 0.2765\n",
      "127 instances of class sheep with average precision: 0.4201\n",
      "124 instances of class sofa with average precision: 0.4674\n",
      "152 instances of class train with average precision: 0.5690\n",
      "158 instances of class tvmonitor with average precision: 0.4110\n",
      "mAP: 0.4869\n",
      "\n",
      "Epoch 00008: mAP did not improve from 0.52264\n",
      "Epoch 9/50\n",
      "209/209 [==============================] - 107s 512ms/step - loss: 1.2559 - regression_loss: 0.4318 - classification_loss: 0.2213 - centerness_loss: 0.6028 - val_loss: 1.2408 - val_regression_loss: 0.4356 - val_classification_loss: 0.2033 - val_centerness_loss: 0.6019\n"
     ]
    },
    {
     "name": "stderr",
     "output_type": "stream",
     "text": [
      "Running network: 100% (2510 of 2510) |###| Elapsed Time: 0:00:59 Time:  0:00:59\n",
      "Parsing annotations: 100% (2510 of 2510) || Elapsed Time: 0:00:00 Time:  0:00:00\n"
     ]
    },
    {
     "name": "stdout",
     "output_type": "stream",
     "text": [
      "155 instances of class aeroplane with average precision: 0.3652\n",
      "177 instances of class bicycle with average precision: 0.4105\n",
      "243 instances of class bird with average precision: 0.4895\n",
      "150 instances of class boat with average precision: 0.4175\n",
      "252 instances of class bottle with average precision: 0.2397\n",
      "114 instances of class bus with average precision: 0.4815\n",
      "625 instances of class car with average precision: 0.4685\n",
      "190 instances of class cat with average precision: 0.4954\n",
      "398 instances of class chair with average precision: 0.4054\n",
      "123 instances of class cow with average precision: 0.5312\n",
      "112 instances of class diningtable with average precision: 0.3302\n",
      "257 instances of class dog with average precision: 0.6477\n",
      "180 instances of class horse with average precision: 0.5995\n",
      "172 instances of class motorbike with average precision: 0.4617\n",
      "2332 instances of class person with average precision: 0.5198\n",
      "266 instances of class pottedplant with average precision: 0.2975\n",
      "127 instances of class sheep with average precision: 0.4896\n",
      "124 instances of class sofa with average precision: 0.4132\n",
      "152 instances of class train with average precision: 0.5534\n",
      "158 instances of class tvmonitor with average precision: 0.6251\n",
      "mAP: 0.4621\n",
      "\n",
      "Epoch 00009: mAP did not improve from 0.52264\n",
      "Epoch 10/50\n",
      " 13/209 [>.............................] - ETA: 1:15 - loss: 1.2372 - regression_loss: 0.4276 - classification_loss: 0.2085 - centerness_loss: 0.6012"
     ]
    }
   ],
   "source": [
    "args = '--backbone resnet50 \\\n",
    "--lr 1e-4 \\\n",
    "--snapshot-path ./snapshots/pascal_resnet50_iou \\\n",
    "--batch-size 24 \\\n",
    "--epochs 50 \\\n",
    "--compute-val-loss \\\n",
    "--image-min-side 256 \\\n",
    "--image-max-side 512 \\\n",
    "--freeze-backbone \\\n",
    "--loss iou \\\n",
    "pascal /datasets/dataset/VOCdevkit/VOC2007'\n",
    "\n",
    "args = parse_args(args.split(' '))\n",
    "main(args)"
   ]
  },
  {
   "cell_type": "code",
   "execution_count": null,
   "id": "1c7ec4b3",
   "metadata": {
    "tags": []
   },
   "outputs": [],
   "source": [
    "args = '--backbone resnet50 \\\n",
    "--snapshot ./snapshots/pascal_resnet50_iou/resnet50_pascal.h5 \\\n",
    "--lr 1e-4 \\\n",
    "--snapshot-path ./snapshots/pascal_resnet50_iou/finetuned \\\n",
    "--batch-size 24 \\\n",
    "--epochs 50 \\\n",
    "--compute-val-loss \\\n",
    "--image-min-side 256 \\\n",
    "--image-max-side 512 \\\n",
    "--loss iou \\\n",
    "pascal /datasets/dataset/VOCdevkit/VOC2007'\n",
    "\n",
    "args = parse_args(args.split(' '))\n",
    "main(args)"
   ]
  },
  {
   "cell_type": "markdown",
   "id": "4384f6b3",
   "metadata": {},
   "source": [
    "## GIoU loss"
   ]
  },
  {
   "cell_type": "code",
   "execution_count": null,
   "id": "ed744985",
   "metadata": {
    "tags": []
   },
   "outputs": [],
   "source": [
    "args = '--backbone resnet50 \\\n",
    "--lr 1e-4 \\\n",
    "--snapshot-path ./snapshots/pascal_resnet50_giou \\\n",
    "--batch-size 24 \\\n",
    "--epochs 50 \\\n",
    "--compute-val-loss \\\n",
    "--image-min-side 256 \\\n",
    "--image-max-side 512 \\\n",
    "--freeze-backbone \\\n",
    "--loss giou \\\n",
    "pascal /datasets/dataset/VOCdevkit/VOC2007'\n",
    "\n",
    "args = parse_args(args.split(' '))\n",
    "main(args)"
   ]
  },
  {
   "cell_type": "code",
   "execution_count": null,
   "id": "4c2a26eb",
   "metadata": {
    "tags": []
   },
   "outputs": [],
   "source": [
    "args = '--backbone resnet50 \\\n",
    "--snapshot ./snapshots/pascal_resnet50_giou/resnet50_pascal.h5 \\\n",
    "--lr 1e-4 \\\n",
    "--snapshot-path ./snapshots/pascal_resnet50_giou/finetuned \\\n",
    "--batch-size 24 \\\n",
    "--epochs 50 \\\n",
    "--compute-val-loss \\\n",
    "--image-min-side 256 \\\n",
    "--image-max-side 512 \\\n",
    "--loss giou \\\n",
    "pascal /datasets/dataset/VOCdevkit/VOC2007'\n",
    "\n",
    "args = parse_args(args.split(' '))\n",
    "main(args)"
   ]
  },
  {
   "cell_type": "markdown",
   "id": "e5d221cd",
   "metadata": {},
   "source": [
    "## ProbIoU"
   ]
  },
  {
   "cell_type": "code",
   "execution_count": null,
   "id": "fd918c57",
   "metadata": {
    "tags": []
   },
   "outputs": [],
   "source": [
    "args = '--backbone resnet50 \\\n",
    "--lr 1e-4 \\\n",
    "--snapshot-path ./snapshots/pascal_resnet50_probiou \\\n",
    "--batch-size 24 \\\n",
    "--epochs 50 \\\n",
    "--compute-val-loss \\\n",
    "--image-min-side 256 \\\n",
    "--image-max-side 512 \\\n",
    "--freeze-backbone \\\n",
    "--loss piou_l3 \\\n",
    "--loss_weight 10 \\\n",
    "pascal /datasets/dataset/VOCdevkit/VOC2007'\n",
    "\n",
    "args = parse_args(args.split(' '))\n",
    "main(args)"
   ]
  },
  {
   "cell_type": "code",
   "execution_count": null,
   "id": "d3ffe54a",
   "metadata": {
    "tags": []
   },
   "outputs": [],
   "source": [
    "args = '--backbone resnet50 \\\n",
    "--snapshot ./snapshots/pascal_resnet50_probiou/resnet50_pascal.h5 \\\n",
    "--lr 1e-4 \\\n",
    "--snapshot-path ./snapshots/pascal_resnet50_probiou/finetuned \\\n",
    "--batch-size 24 \\\n",
    "--epochs 50 \\\n",
    "--compute-val-loss \\\n",
    "--image-min-side 256 \\\n",
    "--image-max-side 512 \\\n",
    "--loss piou_l1 \\\n",
    "--loss_weight 2 \\\n",
    "pascal /datasets/dataset/VOCdevkit/VOC2007'\n",
    "\n",
    "args = parse_args(args.split(' '))\n",
    "main(args)"
   ]
  },
  {
   "cell_type": "markdown",
   "id": "0af293f7",
   "metadata": {},
   "source": [
    "## CIoU"
   ]
  },
  {
   "cell_type": "code",
   "execution_count": null,
   "id": "505e3b5f",
   "metadata": {
    "tags": []
   },
   "outputs": [],
   "source": [
    "args = '--backbone resnet50 \\\n",
    "--lr 1e-4 \\\n",
    "--snapshot-path ./snapshots/pascal_resnet50_ciou \\\n",
    "--batch-size 24 \\\n",
    "--epochs 50 \\\n",
    "--compute-val-loss \\\n",
    "--image-min-side 256 \\\n",
    "--image-max-side 512 \\\n",
    "--freeze-backbone \\\n",
    "--loss ciou \\\n",
    "pascal /datasets/dataset/VOCdevkit/VOC2007'\n",
    "\n",
    "args = parse_args(args.split(' '))\n",
    "main(args)"
   ]
  },
  {
   "cell_type": "code",
   "execution_count": null,
   "id": "c50d5cab",
   "metadata": {},
   "outputs": [],
   "source": [
    "args = '--backbone resnet50 \\\n",
    "--snapshot ./snapshots/pascal_resnet50_ciou/resnet50_pascal.h5 \\\n",
    "--lr 1e-4 \\\n",
    "--snapshot-path ./snapshots/pascal_resnet50_ciou/finetuned \\\n",
    "--batch-size 24 \\\n",
    "--epochs 50 \\\n",
    "--compute-val-loss \\\n",
    "--image-min-side 256 \\\n",
    "--image-max-side 512 \\\n",
    "--loss ciou \\\n",
    "pascal /datasets/dataset/VOCdevkit/VOC2007'\n",
    "\n",
    "args = parse_args(args.split(' '))\n",
    "main(args)"
   ]
  },
  {
   "cell_type": "markdown",
   "id": "7698b07c",
   "metadata": {},
   "source": [
    "## DIoU"
   ]
  },
  {
   "cell_type": "code",
   "execution_count": null,
   "id": "df58bc44",
   "metadata": {},
   "outputs": [],
   "source": [
    "args = '--backbone resnet50 \\\n",
    "--lr 1e-4 \\\n",
    "--snapshot-path ./snapshots/pascal_resnet50_diou \\\n",
    "--batch-size 24 \\\n",
    "--epochs 50 \\\n",
    "--compute-val-loss \\\n",
    "--image-min-side 256 \\\n",
    "--image-max-side 512 \\\n",
    "--freeze-backbone \\\n",
    "--loss diou \\\n",
    "pascal /datasets/dataset/VOCdevkit/VOC2007'\n",
    "\n",
    "args = parse_args(args.split(' '))\n",
    "main(args)"
   ]
  },
  {
   "cell_type": "code",
   "execution_count": null,
   "id": "c32766c3",
   "metadata": {},
   "outputs": [],
   "source": [
    "args = '--backbone resnet50 \\\n",
    "--snapshot ./snapshots/pascal_resnet50_diou/resnet50_pascal.h5 \\\n",
    "--lr 1e-4 \\\n",
    "--snapshot-path ./snapshots/pascal_resnet50_diou/finetuned \\\n",
    "--batch-size 24 \\\n",
    "--epochs 50 \\\n",
    "--compute-val-loss \\\n",
    "--image-min-side 256 \\\n",
    "--image-max-side 512 \\\n",
    "--loss diou \\\n",
    "pascal /datasets/dataset/VOCdevkit/VOC2007'\n",
    "\n",
    "args = parse_args(args.split(' '))\n",
    "main(args)"
   ]
  },
  {
   "cell_type": "code",
   "execution_count": null,
   "id": "eec3bb28",
   "metadata": {},
   "outputs": [],
   "source": []
  }
 ],
 "metadata": {
  "kernelspec": {
   "display_name": "Python 3",
   "language": "python",
   "name": "python3"
  },
  "language_info": {
   "codemirror_mode": {
    "name": "ipython",
    "version": 3
   },
   "file_extension": ".py",
   "mimetype": "text/x-python",
   "name": "python",
   "nbconvert_exporter": "python",
   "pygments_lexer": "ipython3",
   "version": "3.6.8"
  }
 },
 "nbformat": 4,
 "nbformat_minor": 5
}
